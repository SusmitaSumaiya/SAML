{
 "cells": [
  {
   "cell_type": "code",
   "execution_count": 1,
   "id": "28dcc547",
   "metadata": {},
   "outputs": [],
   "source": [
    "import os\n",
    "import pandas as pd\n",
    "\n",
    "# Define the path to the subfolders containing the txt files\n",
    "subfolders = [\"Person\", \"Empty\"]\n",
    "\n",
    "# Get the absolute path to the current working directory\n",
    "base_folder_path = os.path.abspath(os.getcwd())\n",
    "\n",
    "\n",
    "# Create a new subfolder to save the csv files\n",
    "csv_folder_path = os.path.join(base_folder_path, 'FFTCSV')\n",
    "if not os.path.exists(csv_folder_path):\n",
    "    os.makedirs(csv_folder_path)\n",
    "    \n",
    "subfolder_path_Empty = os.path.join(csv_folder_path, 'Empty')\n",
    "subfolder_path_person = os.path.join(csv_folder_path, 'Person')\n",
    "\n",
    "# Create the subfolder if it doesn't exist\n",
    "os.makedirs(subfolder_path_person, exist_ok=True)\n",
    "os.makedirs(subfolder_path_Empty, exist_ok=True)\n",
    "\n",
    "\n",
    "#path to the Input text Folder\n",
    "path = os.path.join(base_folder_path, 'data')\n"
   ]
  },
  {
   "cell_type": "code",
   "execution_count": 2,
   "id": "09472313",
   "metadata": {},
   "outputs": [],
   "source": [
    "for subfolder in subfolders:\n",
    "    #getting the folder_path path to the subdirectories\n",
    "    folder_path = os.path.join(path, subfolder)\n",
    "\n",
    "    # Determine the appropriate subfolder based on the person value\n",
    "    if subfolder == 'Empty':\n",
    "        subfolder_path = subfolder_path_Empty\n",
    "    elif subfolder == 'Person':\n",
    "        subfolder_path = subfolder_path_person\n",
    "    \n",
    "    # Loop through each txt file in the subfolder\n",
    "    for file_name in os.listdir(folder_path):\n",
    "        if file_name.endswith('.txt'):\n",
    "            # Read the data from the txt file\n",
    "            file_path = os.path.join(folder_path, file_name)\n",
    "            data = pd.read_csv(file_path, delimiter=\"\\t\")\n",
    "            \n",
    "            \n",
    "            # Save the data to a csv file in the FFTCSV subfolder\n",
    "            csv_file_name = os.path.splitext(file_name)[0] + '.csv'\n",
    "            csv_file_path = os.path.join(subfolder_path, csv_file_name)\n",
    "            data.to_csv(csv_file_path, index=False)\n",
    "            \n",
    "            \n",
    "\n"
   ]
  },
  {
   "cell_type": "code",
   "execution_count": 3,
   "id": "ccc03518",
   "metadata": {},
   "outputs": [],
   "source": [
    "# Read all the csv files in the FFTCSV subfolder and concatenate the data\n",
    "data = pd.DataFrame()\n",
    "for file_name in os.listdir(csv_folder_path):\n",
    "    if file_name.endswith('.csv'):\n",
    "        file_path = os.path.join(csv_folder_path, file_name)\n",
    "        csv_data = pd.read_csv(file_path)\n",
    "        data = pd.concat([data, csv_data], axis=0)\n",
    "\n",
    "# Train the model and evaluate the performance using the data\n",
    "# ...\n"
   ]
  },
  {
   "cell_type": "code",
   "execution_count": null,
   "id": "3cb3f773",
   "metadata": {},
   "outputs": [],
   "source": []
  },
  {
   "cell_type": "code",
   "execution_count": null,
   "id": "fa431151",
   "metadata": {},
   "outputs": [],
   "source": []
  }
 ],
 "metadata": {
  "kernelspec": {
   "display_name": "Python 3",
   "language": "python",
   "name": "python3"
  },
  "language_info": {
   "codemirror_mode": {
    "name": "ipython",
    "version": 3
   },
   "file_extension": ".py",
   "mimetype": "text/x-python",
   "name": "python",
   "nbconvert_exporter": "python",
   "pygments_lexer": "ipython3",
   "version": "3.8.8"
  }
 },
 "nbformat": 4,
 "nbformat_minor": 5
}
